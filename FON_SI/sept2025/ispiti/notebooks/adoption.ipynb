{
 "cells": [
  {
   "metadata": {},
   "cell_type": "markdown",
   "source": [
    "Sept 2025 Ispitni zadatak\n",
    "U projektu kreirati folder 'ispiti' i u njemu dva foldera: 'data' i 'notebooks'. U notebooks kreirati jupyter notebook pod nazivom 'adoption.ipynb'\n",
    "\n",
    "1. Učitaj dataset,\n",
    "obriši REDOVE sa NaN vrednostima,\n",
    "izbaciti kolone PetID, Vaccinated, HealthCondition i PetType. (nisam siguran da li je bilo PetType, ali svakako nije bitno)\n",
    "Izbaciti redove gde Size nije jednako: 'Small', 'Medium' ili 'Large\n",
    "sačuvati očišćen dataset u 'adoption_clean.csv'\n",
    "\n",
    "2. U očišćenom datasetu, napraviti kolonu AgeYears. AgeYears dobijamo tako što AgeMonths podelimo sa 12 i zaokružimo na ceo broj. Nakon kreiranja proveriti da li su sve vrednosti u koloni AgeYears tipa int. Staviti da kolona AgeYears bude ispred AgeMonths.\n",
    "\n",
    "3. Prikazati srednju vrednost TimeInShelterDays po godinama AgeYears u vidu linijskog plota.\n",
    "\n",
    "4. Preko bargrapha prikazati za svaku kategoriju Size, prosečnu vrednost za WeightKg."
   ],
   "id": "233cb88df7fb43ea"
  },
  {
   "metadata": {},
   "cell_type": "markdown",
   "source": "Učitavanje potrebnih biblioteki",
   "id": "179ce5b0c46ef5b7"
  },
  {
   "metadata": {
    "ExecuteTime": {
     "end_time": "2025-10-12T13:40:10.000835Z",
     "start_time": "2025-10-12T13:40:09.998547Z"
    }
   },
   "cell_type": "code",
   "source": [
    "import pandas as pd\n",
    "from pathlib import Path\n",
    "import matplotlib.pyplot as plt\n"
   ],
   "id": "c71015034c7fa4a8",
   "outputs": [],
   "execution_count": 42
  },
  {
   "metadata": {},
   "cell_type": "markdown",
   "source": "Učitavanje dataset-a",
   "id": "660c933e3665af19"
  },
  {
   "cell_type": "code",
   "id": "initial_id",
   "metadata": {
    "collapsed": true,
    "ExecuteTime": {
     "end_time": "2025-10-12T13:40:10.985715Z",
     "start_time": "2025-10-12T13:40:10.965027Z"
    }
   },
   "source": [
    "DATA_DIR = Path.cwd().parent / 'data'\n",
    "\n",
    "adoption_df = pd.read_csv(DATA_DIR / 'adoption.csv')\n",
    "\n",
    "adoption_df"
   ],
   "outputs": [
    {
     "data": {
      "text/plain": [
       "      PetID PetType  AgeMonths    Size   WeightKg  Vaccinated  \\\n",
       "0       500    Bird        131   Large   5.039768           1   \n",
       "1       501  Rabbit         73   Large  16.086727           0   \n",
       "2       502     Dog        136  Medium   2.076286           0   \n",
       "3       503    Bird         97   Small   3.339423           0   \n",
       "4       504  Rabbit        123   Large  20.498100           0   \n",
       "...     ...     ...        ...     ...        ...         ...   \n",
       "2002   2502     Dog         72   Small  27.039045           1   \n",
       "2003   2503  Rabbit        124   Small   4.726954           1   \n",
       "2004   2504  Rabbit        113   Small   1.758592           1   \n",
       "2005   2505     Dog         12   Large  20.961592           1   \n",
       "2006   2506  Rabbit        126  Medium  18.519788           1   \n",
       "\n",
       "      HealthCondition  TimeInShelterDays  \n",
       "0                   0                 27  \n",
       "1                   0                  8  \n",
       "2                   0                 85  \n",
       "3                   0                 61  \n",
       "4                   0                 28  \n",
       "...               ...                ...  \n",
       "2002                0                 66  \n",
       "2003                1                 59  \n",
       "2004                0                 68  \n",
       "2005                0                 59  \n",
       "2006                0                 10  \n",
       "\n",
       "[2007 rows x 8 columns]"
      ],
      "text/html": [
       "<div>\n",
       "<style scoped>\n",
       "    .dataframe tbody tr th:only-of-type {\n",
       "        vertical-align: middle;\n",
       "    }\n",
       "\n",
       "    .dataframe tbody tr th {\n",
       "        vertical-align: top;\n",
       "    }\n",
       "\n",
       "    .dataframe thead th {\n",
       "        text-align: right;\n",
       "    }\n",
       "</style>\n",
       "<table border=\"1\" class=\"dataframe\">\n",
       "  <thead>\n",
       "    <tr style=\"text-align: right;\">\n",
       "      <th></th>\n",
       "      <th>PetID</th>\n",
       "      <th>PetType</th>\n",
       "      <th>AgeMonths</th>\n",
       "      <th>Size</th>\n",
       "      <th>WeightKg</th>\n",
       "      <th>Vaccinated</th>\n",
       "      <th>HealthCondition</th>\n",
       "      <th>TimeInShelterDays</th>\n",
       "    </tr>\n",
       "  </thead>\n",
       "  <tbody>\n",
       "    <tr>\n",
       "      <th>0</th>\n",
       "      <td>500</td>\n",
       "      <td>Bird</td>\n",
       "      <td>131</td>\n",
       "      <td>Large</td>\n",
       "      <td>5.039768</td>\n",
       "      <td>1</td>\n",
       "      <td>0</td>\n",
       "      <td>27</td>\n",
       "    </tr>\n",
       "    <tr>\n",
       "      <th>1</th>\n",
       "      <td>501</td>\n",
       "      <td>Rabbit</td>\n",
       "      <td>73</td>\n",
       "      <td>Large</td>\n",
       "      <td>16.086727</td>\n",
       "      <td>0</td>\n",
       "      <td>0</td>\n",
       "      <td>8</td>\n",
       "    </tr>\n",
       "    <tr>\n",
       "      <th>2</th>\n",
       "      <td>502</td>\n",
       "      <td>Dog</td>\n",
       "      <td>136</td>\n",
       "      <td>Medium</td>\n",
       "      <td>2.076286</td>\n",
       "      <td>0</td>\n",
       "      <td>0</td>\n",
       "      <td>85</td>\n",
       "    </tr>\n",
       "    <tr>\n",
       "      <th>3</th>\n",
       "      <td>503</td>\n",
       "      <td>Bird</td>\n",
       "      <td>97</td>\n",
       "      <td>Small</td>\n",
       "      <td>3.339423</td>\n",
       "      <td>0</td>\n",
       "      <td>0</td>\n",
       "      <td>61</td>\n",
       "    </tr>\n",
       "    <tr>\n",
       "      <th>4</th>\n",
       "      <td>504</td>\n",
       "      <td>Rabbit</td>\n",
       "      <td>123</td>\n",
       "      <td>Large</td>\n",
       "      <td>20.498100</td>\n",
       "      <td>0</td>\n",
       "      <td>0</td>\n",
       "      <td>28</td>\n",
       "    </tr>\n",
       "    <tr>\n",
       "      <th>...</th>\n",
       "      <td>...</td>\n",
       "      <td>...</td>\n",
       "      <td>...</td>\n",
       "      <td>...</td>\n",
       "      <td>...</td>\n",
       "      <td>...</td>\n",
       "      <td>...</td>\n",
       "      <td>...</td>\n",
       "    </tr>\n",
       "    <tr>\n",
       "      <th>2002</th>\n",
       "      <td>2502</td>\n",
       "      <td>Dog</td>\n",
       "      <td>72</td>\n",
       "      <td>Small</td>\n",
       "      <td>27.039045</td>\n",
       "      <td>1</td>\n",
       "      <td>0</td>\n",
       "      <td>66</td>\n",
       "    </tr>\n",
       "    <tr>\n",
       "      <th>2003</th>\n",
       "      <td>2503</td>\n",
       "      <td>Rabbit</td>\n",
       "      <td>124</td>\n",
       "      <td>Small</td>\n",
       "      <td>4.726954</td>\n",
       "      <td>1</td>\n",
       "      <td>1</td>\n",
       "      <td>59</td>\n",
       "    </tr>\n",
       "    <tr>\n",
       "      <th>2004</th>\n",
       "      <td>2504</td>\n",
       "      <td>Rabbit</td>\n",
       "      <td>113</td>\n",
       "      <td>Small</td>\n",
       "      <td>1.758592</td>\n",
       "      <td>1</td>\n",
       "      <td>0</td>\n",
       "      <td>68</td>\n",
       "    </tr>\n",
       "    <tr>\n",
       "      <th>2005</th>\n",
       "      <td>2505</td>\n",
       "      <td>Dog</td>\n",
       "      <td>12</td>\n",
       "      <td>Large</td>\n",
       "      <td>20.961592</td>\n",
       "      <td>1</td>\n",
       "      <td>0</td>\n",
       "      <td>59</td>\n",
       "    </tr>\n",
       "    <tr>\n",
       "      <th>2006</th>\n",
       "      <td>2506</td>\n",
       "      <td>Rabbit</td>\n",
       "      <td>126</td>\n",
       "      <td>Medium</td>\n",
       "      <td>18.519788</td>\n",
       "      <td>1</td>\n",
       "      <td>0</td>\n",
       "      <td>10</td>\n",
       "    </tr>\n",
       "  </tbody>\n",
       "</table>\n",
       "<p>2007 rows × 8 columns</p>\n",
       "</div>"
      ]
     },
     "execution_count": 43,
     "metadata": {},
     "output_type": "execute_result"
    }
   ],
   "execution_count": 43
  },
  {
   "metadata": {},
   "cell_type": "markdown",
   "source": "Brisanje redova sa NaN vrednostima (U OVOM DATASETU IZGLEDA DA NEMA NAN VREDNOSTI, ALI ISPOD IMATE KAKO SE RADI)",
   "id": "1c5dfdc8e7b32c7c"
  },
  {
   "metadata": {
    "ExecuteTime": {
     "end_time": "2025-10-12T13:40:15.100771Z",
     "start_time": "2025-10-12T13:40:15.096620Z"
    }
   },
   "cell_type": "code",
   "source": "adoption_df.isna().sum()",
   "id": "ca624ec477e84637",
   "outputs": [
    {
     "data": {
      "text/plain": [
       "PetID                0\n",
       "PetType              0\n",
       "AgeMonths            0\n",
       "Size                 0\n",
       "WeightKg             0\n",
       "Vaccinated           0\n",
       "HealthCondition      0\n",
       "TimeInShelterDays    0\n",
       "dtype: int64"
      ]
     },
     "execution_count": 44,
     "metadata": {},
     "output_type": "execute_result"
    }
   ],
   "execution_count": 44
  },
  {
   "metadata": {
    "ExecuteTime": {
     "end_time": "2025-10-12T13:40:17.394189Z",
     "start_time": "2025-10-12T13:40:17.389507Z"
    }
   },
   "cell_type": "code",
   "source": "adoption_df.isna().sum().sum()",
   "id": "1705c33cf5bdd045",
   "outputs": [
    {
     "data": {
      "text/plain": [
       "np.int64(0)"
      ]
     },
     "execution_count": 45,
     "metadata": {},
     "output_type": "execute_result"
    }
   ],
   "execution_count": 45
  },
  {
   "metadata": {
    "ExecuteTime": {
     "end_time": "2025-10-12T13:40:18.931114Z",
     "start_time": "2025-10-12T13:40:18.927368Z"
    }
   },
   "cell_type": "code",
   "source": "adoption_df.dropna(how='any', inplace=True)",
   "id": "c9ea1b52414fe734",
   "outputs": [],
   "execution_count": 46
  },
  {
   "metadata": {
    "ExecuteTime": {
     "end_time": "2025-10-12T13:40:20.090896Z",
     "start_time": "2025-10-12T13:40:20.086783Z"
    }
   },
   "cell_type": "code",
   "source": "adoption_df.isna().sum().sum()",
   "id": "ef1f61e9fbb958db",
   "outputs": [
    {
     "data": {
      "text/plain": [
       "np.int64(0)"
      ]
     },
     "execution_count": 47,
     "metadata": {},
     "output_type": "execute_result"
    }
   ],
   "execution_count": 47
  },
  {
   "metadata": {},
   "cell_type": "markdown",
   "source": "Izbacivanje kolona PetID, Vaccinated, HealthCondition i PetType",
   "id": "15a1b9964c544c85"
  },
  {
   "metadata": {
    "ExecuteTime": {
     "end_time": "2025-10-12T13:40:21.779530Z",
     "start_time": "2025-10-12T13:40:21.775326Z"
    }
   },
   "cell_type": "code",
   "source": "adoption_df.columns",
   "id": "8cc0fde4433bfbd1",
   "outputs": [
    {
     "data": {
      "text/plain": [
       "Index(['PetID', 'PetType', 'AgeMonths', 'Size', 'WeightKg', 'Vaccinated',\n",
       "       'HealthCondition', 'TimeInShelterDays'],\n",
       "      dtype='object')"
      ]
     },
     "execution_count": 48,
     "metadata": {},
     "output_type": "execute_result"
    }
   ],
   "execution_count": 48
  },
  {
   "metadata": {
    "ExecuteTime": {
     "end_time": "2025-10-12T13:40:23.405751Z",
     "start_time": "2025-10-12T13:40:23.399479Z"
    }
   },
   "cell_type": "code",
   "source": [
    "adoption_df.drop(columns=['PetID', 'Vaccinated', 'HealthCondition', 'PetType'], inplace=True)\n",
    "adoption_df"
   ],
   "id": "15aaddd011eb6c8e",
   "outputs": [
    {
     "data": {
      "text/plain": [
       "      AgeMonths    Size   WeightKg  TimeInShelterDays\n",
       "0           131   Large   5.039768                 27\n",
       "1            73   Large  16.086727                  8\n",
       "2           136  Medium   2.076286                 85\n",
       "3            97   Small   3.339423                 61\n",
       "4           123   Large  20.498100                 28\n",
       "...         ...     ...        ...                ...\n",
       "2002         72   Small  27.039045                 66\n",
       "2003        124   Small   4.726954                 59\n",
       "2004        113   Small   1.758592                 68\n",
       "2005         12   Large  20.961592                 59\n",
       "2006        126  Medium  18.519788                 10\n",
       "\n",
       "[2007 rows x 4 columns]"
      ],
      "text/html": [
       "<div>\n",
       "<style scoped>\n",
       "    .dataframe tbody tr th:only-of-type {\n",
       "        vertical-align: middle;\n",
       "    }\n",
       "\n",
       "    .dataframe tbody tr th {\n",
       "        vertical-align: top;\n",
       "    }\n",
       "\n",
       "    .dataframe thead th {\n",
       "        text-align: right;\n",
       "    }\n",
       "</style>\n",
       "<table border=\"1\" class=\"dataframe\">\n",
       "  <thead>\n",
       "    <tr style=\"text-align: right;\">\n",
       "      <th></th>\n",
       "      <th>AgeMonths</th>\n",
       "      <th>Size</th>\n",
       "      <th>WeightKg</th>\n",
       "      <th>TimeInShelterDays</th>\n",
       "    </tr>\n",
       "  </thead>\n",
       "  <tbody>\n",
       "    <tr>\n",
       "      <th>0</th>\n",
       "      <td>131</td>\n",
       "      <td>Large</td>\n",
       "      <td>5.039768</td>\n",
       "      <td>27</td>\n",
       "    </tr>\n",
       "    <tr>\n",
       "      <th>1</th>\n",
       "      <td>73</td>\n",
       "      <td>Large</td>\n",
       "      <td>16.086727</td>\n",
       "      <td>8</td>\n",
       "    </tr>\n",
       "    <tr>\n",
       "      <th>2</th>\n",
       "      <td>136</td>\n",
       "      <td>Medium</td>\n",
       "      <td>2.076286</td>\n",
       "      <td>85</td>\n",
       "    </tr>\n",
       "    <tr>\n",
       "      <th>3</th>\n",
       "      <td>97</td>\n",
       "      <td>Small</td>\n",
       "      <td>3.339423</td>\n",
       "      <td>61</td>\n",
       "    </tr>\n",
       "    <tr>\n",
       "      <th>4</th>\n",
       "      <td>123</td>\n",
       "      <td>Large</td>\n",
       "      <td>20.498100</td>\n",
       "      <td>28</td>\n",
       "    </tr>\n",
       "    <tr>\n",
       "      <th>...</th>\n",
       "      <td>...</td>\n",
       "      <td>...</td>\n",
       "      <td>...</td>\n",
       "      <td>...</td>\n",
       "    </tr>\n",
       "    <tr>\n",
       "      <th>2002</th>\n",
       "      <td>72</td>\n",
       "      <td>Small</td>\n",
       "      <td>27.039045</td>\n",
       "      <td>66</td>\n",
       "    </tr>\n",
       "    <tr>\n",
       "      <th>2003</th>\n",
       "      <td>124</td>\n",
       "      <td>Small</td>\n",
       "      <td>4.726954</td>\n",
       "      <td>59</td>\n",
       "    </tr>\n",
       "    <tr>\n",
       "      <th>2004</th>\n",
       "      <td>113</td>\n",
       "      <td>Small</td>\n",
       "      <td>1.758592</td>\n",
       "      <td>68</td>\n",
       "    </tr>\n",
       "    <tr>\n",
       "      <th>2005</th>\n",
       "      <td>12</td>\n",
       "      <td>Large</td>\n",
       "      <td>20.961592</td>\n",
       "      <td>59</td>\n",
       "    </tr>\n",
       "    <tr>\n",
       "      <th>2006</th>\n",
       "      <td>126</td>\n",
       "      <td>Medium</td>\n",
       "      <td>18.519788</td>\n",
       "      <td>10</td>\n",
       "    </tr>\n",
       "  </tbody>\n",
       "</table>\n",
       "<p>2007 rows × 4 columns</p>\n",
       "</div>"
      ]
     },
     "execution_count": 49,
     "metadata": {},
     "output_type": "execute_result"
    }
   ],
   "execution_count": 49
  },
  {
   "metadata": {},
   "cell_type": "markdown",
   "source": "Izbacivanje redova gde Size nije Small, Medium ili Large (NA ISPITU JE SU BILA 2 REDA, GDE JE SIZE BIO UNKNOWN)",
   "id": "2028c40f9d15285a"
  },
  {
   "metadata": {},
   "cell_type": "markdown",
   "source": "Ovako biste proverili redove koji nemaju Size koji je 'Small','Medium' ili 'Large'",
   "id": "2b920154a24ddcef"
  },
  {
   "metadata": {},
   "cell_type": "markdown",
   "source": "~ služi za negaciju",
   "id": "25ea517f3b25fb98"
  },
  {
   "metadata": {
    "ExecuteTime": {
     "end_time": "2025-10-12T13:40:25.865018Z",
     "start_time": "2025-10-12T13:40:25.859812Z"
    }
   },
   "cell_type": "code",
   "source": "adoption_df.loc[~adoption_df.Size.isin(['Small','Medium', 'Large'])]",
   "id": "1c9e0d9d883467c9",
   "outputs": [
    {
     "data": {
      "text/plain": [
       "Empty DataFrame\n",
       "Columns: [AgeMonths, Size, WeightKg, TimeInShelterDays]\n",
       "Index: []"
      ],
      "text/html": [
       "<div>\n",
       "<style scoped>\n",
       "    .dataframe tbody tr th:only-of-type {\n",
       "        vertical-align: middle;\n",
       "    }\n",
       "\n",
       "    .dataframe tbody tr th {\n",
       "        vertical-align: top;\n",
       "    }\n",
       "\n",
       "    .dataframe thead th {\n",
       "        text-align: right;\n",
       "    }\n",
       "</style>\n",
       "<table border=\"1\" class=\"dataframe\">\n",
       "  <thead>\n",
       "    <tr style=\"text-align: right;\">\n",
       "      <th></th>\n",
       "      <th>AgeMonths</th>\n",
       "      <th>Size</th>\n",
       "      <th>WeightKg</th>\n",
       "      <th>TimeInShelterDays</th>\n",
       "    </tr>\n",
       "  </thead>\n",
       "  <tbody>\n",
       "  </tbody>\n",
       "</table>\n",
       "</div>"
      ]
     },
     "execution_count": 50,
     "metadata": {},
     "output_type": "execute_result"
    }
   ],
   "execution_count": 50
  },
  {
   "metadata": {},
   "cell_type": "markdown",
   "source": "Nama trebaju SAMO vrednosti gde je Size 'Small', 'Medium' ili 'Large'",
   "id": "aec4e0810592d7df"
  },
  {
   "metadata": {
    "ExecuteTime": {
     "end_time": "2025-10-12T13:40:27.141376Z",
     "start_time": "2025-10-12T13:40:27.137358Z"
    }
   },
   "cell_type": "code",
   "source": "adoption_df = adoption_df.loc[adoption_df.Size.isin(['Small','Medium', 'Large'])].copy()",
   "id": "291f422e32753386",
   "outputs": [],
   "execution_count": 51
  },
  {
   "metadata": {},
   "cell_type": "markdown",
   "source": "Čuvanje očišćenog dataseta",
   "id": "e4b3e83058e9b8e"
  },
  {
   "metadata": {
    "ExecuteTime": {
     "end_time": "2025-10-12T13:40:28.728217Z",
     "start_time": "2025-10-12T13:40:28.706308Z"
    }
   },
   "cell_type": "code",
   "source": [
    "adoption_df.to_csv(DATA_DIR / 'adoption_clean.csv', index=False)\n",
    "\n",
    "adoption_clean = pd.read_csv(DATA_DIR / 'adoption_clean.csv')  #Ovo nije neophodno da radite, možete da nastavite da koristite adoption_df\n",
    "adoption_clean\n"
   ],
   "id": "2366dc0c700fe870",
   "outputs": [
    {
     "data": {
      "text/plain": [
       "      AgeMonths    Size   WeightKg  TimeInShelterDays\n",
       "0           131   Large   5.039768                 27\n",
       "1            73   Large  16.086727                  8\n",
       "2           136  Medium   2.076286                 85\n",
       "3            97   Small   3.339423                 61\n",
       "4           123   Large  20.498100                 28\n",
       "...         ...     ...        ...                ...\n",
       "2002         72   Small  27.039045                 66\n",
       "2003        124   Small   4.726954                 59\n",
       "2004        113   Small   1.758592                 68\n",
       "2005         12   Large  20.961592                 59\n",
       "2006        126  Medium  18.519788                 10\n",
       "\n",
       "[2007 rows x 4 columns]"
      ],
      "text/html": [
       "<div>\n",
       "<style scoped>\n",
       "    .dataframe tbody tr th:only-of-type {\n",
       "        vertical-align: middle;\n",
       "    }\n",
       "\n",
       "    .dataframe tbody tr th {\n",
       "        vertical-align: top;\n",
       "    }\n",
       "\n",
       "    .dataframe thead th {\n",
       "        text-align: right;\n",
       "    }\n",
       "</style>\n",
       "<table border=\"1\" class=\"dataframe\">\n",
       "  <thead>\n",
       "    <tr style=\"text-align: right;\">\n",
       "      <th></th>\n",
       "      <th>AgeMonths</th>\n",
       "      <th>Size</th>\n",
       "      <th>WeightKg</th>\n",
       "      <th>TimeInShelterDays</th>\n",
       "    </tr>\n",
       "  </thead>\n",
       "  <tbody>\n",
       "    <tr>\n",
       "      <th>0</th>\n",
       "      <td>131</td>\n",
       "      <td>Large</td>\n",
       "      <td>5.039768</td>\n",
       "      <td>27</td>\n",
       "    </tr>\n",
       "    <tr>\n",
       "      <th>1</th>\n",
       "      <td>73</td>\n",
       "      <td>Large</td>\n",
       "      <td>16.086727</td>\n",
       "      <td>8</td>\n",
       "    </tr>\n",
       "    <tr>\n",
       "      <th>2</th>\n",
       "      <td>136</td>\n",
       "      <td>Medium</td>\n",
       "      <td>2.076286</td>\n",
       "      <td>85</td>\n",
       "    </tr>\n",
       "    <tr>\n",
       "      <th>3</th>\n",
       "      <td>97</td>\n",
       "      <td>Small</td>\n",
       "      <td>3.339423</td>\n",
       "      <td>61</td>\n",
       "    </tr>\n",
       "    <tr>\n",
       "      <th>4</th>\n",
       "      <td>123</td>\n",
       "      <td>Large</td>\n",
       "      <td>20.498100</td>\n",
       "      <td>28</td>\n",
       "    </tr>\n",
       "    <tr>\n",
       "      <th>...</th>\n",
       "      <td>...</td>\n",
       "      <td>...</td>\n",
       "      <td>...</td>\n",
       "      <td>...</td>\n",
       "    </tr>\n",
       "    <tr>\n",
       "      <th>2002</th>\n",
       "      <td>72</td>\n",
       "      <td>Small</td>\n",
       "      <td>27.039045</td>\n",
       "      <td>66</td>\n",
       "    </tr>\n",
       "    <tr>\n",
       "      <th>2003</th>\n",
       "      <td>124</td>\n",
       "      <td>Small</td>\n",
       "      <td>4.726954</td>\n",
       "      <td>59</td>\n",
       "    </tr>\n",
       "    <tr>\n",
       "      <th>2004</th>\n",
       "      <td>113</td>\n",
       "      <td>Small</td>\n",
       "      <td>1.758592</td>\n",
       "      <td>68</td>\n",
       "    </tr>\n",
       "    <tr>\n",
       "      <th>2005</th>\n",
       "      <td>12</td>\n",
       "      <td>Large</td>\n",
       "      <td>20.961592</td>\n",
       "      <td>59</td>\n",
       "    </tr>\n",
       "    <tr>\n",
       "      <th>2006</th>\n",
       "      <td>126</td>\n",
       "      <td>Medium</td>\n",
       "      <td>18.519788</td>\n",
       "      <td>10</td>\n",
       "    </tr>\n",
       "  </tbody>\n",
       "</table>\n",
       "<p>2007 rows × 4 columns</p>\n",
       "</div>"
      ]
     },
     "execution_count": 52,
     "metadata": {},
     "output_type": "execute_result"
    }
   ],
   "execution_count": 52
  },
  {
   "metadata": {},
   "cell_type": "markdown",
   "source": "Kreiranje AgeMonths kolone",
   "id": "bc17b050452027e9"
  },
  {
   "metadata": {
    "ExecuteTime": {
     "end_time": "2025-10-12T13:40:30.787625Z",
     "start_time": "2025-10-12T13:40:30.780161Z"
    }
   },
   "cell_type": "code",
   "source": [
    "def age_years(value):\n",
    "    return int (round(value / 12))  #može i bez round\n",
    "\n",
    "adoption_clean['AgeYears'] = adoption_clean['AgeMonths'].apply(age_years)\n",
    "\n",
    "adoption_clean"
   ],
   "id": "fd1adf7f6c45bd76",
   "outputs": [
    {
     "data": {
      "text/plain": [
       "      AgeMonths    Size   WeightKg  TimeInShelterDays  AgeYears\n",
       "0           131   Large   5.039768                 27        11\n",
       "1            73   Large  16.086727                  8         6\n",
       "2           136  Medium   2.076286                 85        11\n",
       "3            97   Small   3.339423                 61         8\n",
       "4           123   Large  20.498100                 28        10\n",
       "...         ...     ...        ...                ...       ...\n",
       "2002         72   Small  27.039045                 66         6\n",
       "2003        124   Small   4.726954                 59        10\n",
       "2004        113   Small   1.758592                 68         9\n",
       "2005         12   Large  20.961592                 59         1\n",
       "2006        126  Medium  18.519788                 10        10\n",
       "\n",
       "[2007 rows x 5 columns]"
      ],
      "text/html": [
       "<div>\n",
       "<style scoped>\n",
       "    .dataframe tbody tr th:only-of-type {\n",
       "        vertical-align: middle;\n",
       "    }\n",
       "\n",
       "    .dataframe tbody tr th {\n",
       "        vertical-align: top;\n",
       "    }\n",
       "\n",
       "    .dataframe thead th {\n",
       "        text-align: right;\n",
       "    }\n",
       "</style>\n",
       "<table border=\"1\" class=\"dataframe\">\n",
       "  <thead>\n",
       "    <tr style=\"text-align: right;\">\n",
       "      <th></th>\n",
       "      <th>AgeMonths</th>\n",
       "      <th>Size</th>\n",
       "      <th>WeightKg</th>\n",
       "      <th>TimeInShelterDays</th>\n",
       "      <th>AgeYears</th>\n",
       "    </tr>\n",
       "  </thead>\n",
       "  <tbody>\n",
       "    <tr>\n",
       "      <th>0</th>\n",
       "      <td>131</td>\n",
       "      <td>Large</td>\n",
       "      <td>5.039768</td>\n",
       "      <td>27</td>\n",
       "      <td>11</td>\n",
       "    </tr>\n",
       "    <tr>\n",
       "      <th>1</th>\n",
       "      <td>73</td>\n",
       "      <td>Large</td>\n",
       "      <td>16.086727</td>\n",
       "      <td>8</td>\n",
       "      <td>6</td>\n",
       "    </tr>\n",
       "    <tr>\n",
       "      <th>2</th>\n",
       "      <td>136</td>\n",
       "      <td>Medium</td>\n",
       "      <td>2.076286</td>\n",
       "      <td>85</td>\n",
       "      <td>11</td>\n",
       "    </tr>\n",
       "    <tr>\n",
       "      <th>3</th>\n",
       "      <td>97</td>\n",
       "      <td>Small</td>\n",
       "      <td>3.339423</td>\n",
       "      <td>61</td>\n",
       "      <td>8</td>\n",
       "    </tr>\n",
       "    <tr>\n",
       "      <th>4</th>\n",
       "      <td>123</td>\n",
       "      <td>Large</td>\n",
       "      <td>20.498100</td>\n",
       "      <td>28</td>\n",
       "      <td>10</td>\n",
       "    </tr>\n",
       "    <tr>\n",
       "      <th>...</th>\n",
       "      <td>...</td>\n",
       "      <td>...</td>\n",
       "      <td>...</td>\n",
       "      <td>...</td>\n",
       "      <td>...</td>\n",
       "    </tr>\n",
       "    <tr>\n",
       "      <th>2002</th>\n",
       "      <td>72</td>\n",
       "      <td>Small</td>\n",
       "      <td>27.039045</td>\n",
       "      <td>66</td>\n",
       "      <td>6</td>\n",
       "    </tr>\n",
       "    <tr>\n",
       "      <th>2003</th>\n",
       "      <td>124</td>\n",
       "      <td>Small</td>\n",
       "      <td>4.726954</td>\n",
       "      <td>59</td>\n",
       "      <td>10</td>\n",
       "    </tr>\n",
       "    <tr>\n",
       "      <th>2004</th>\n",
       "      <td>113</td>\n",
       "      <td>Small</td>\n",
       "      <td>1.758592</td>\n",
       "      <td>68</td>\n",
       "      <td>9</td>\n",
       "    </tr>\n",
       "    <tr>\n",
       "      <th>2005</th>\n",
       "      <td>12</td>\n",
       "      <td>Large</td>\n",
       "      <td>20.961592</td>\n",
       "      <td>59</td>\n",
       "      <td>1</td>\n",
       "    </tr>\n",
       "    <tr>\n",
       "      <th>2006</th>\n",
       "      <td>126</td>\n",
       "      <td>Medium</td>\n",
       "      <td>18.519788</td>\n",
       "      <td>10</td>\n",
       "      <td>10</td>\n",
       "    </tr>\n",
       "  </tbody>\n",
       "</table>\n",
       "<p>2007 rows × 5 columns</p>\n",
       "</div>"
      ]
     },
     "execution_count": 53,
     "metadata": {},
     "output_type": "execute_result"
    }
   ],
   "execution_count": 53
  },
  {
   "metadata": {},
   "cell_type": "markdown",
   "source": "Stavljanje AgeYears kolone ispred AgeMonths",
   "id": "8fca4c6bb75bc82e"
  },
  {
   "metadata": {
    "ExecuteTime": {
     "end_time": "2025-10-12T13:40:37.191658Z",
     "start_time": "2025-10-12T13:40:37.187330Z"
    }
   },
   "cell_type": "code",
   "source": [
    "kolone = adoption_clean.columns.tolist() #uzmi sve kolone i upiši u listu\n",
    "kolone.remove('AgeYears') #izbaci AgeYears iz liste\n",
    "age_months_index = kolone.index('AgeMonths') #nađi index/mesto gde se nalazi AgeMonths u Listi\n",
    "kolone.insert(age_months_index, 'AgeYears')  #ubaci AgeYears na mesto AgeMonths\n",
    "\n",
    "kolone\n"
   ],
   "id": "1b5dc3b1a816508b",
   "outputs": [
    {
     "data": {
      "text/plain": [
       "['AgeYears', 'AgeMonths', 'Size', 'WeightKg', 'TimeInShelterDays']"
      ]
     },
     "execution_count": 55,
     "metadata": {},
     "output_type": "execute_result"
    }
   ],
   "execution_count": 55
  },
  {
   "metadata": {
    "ExecuteTime": {
     "end_time": "2025-10-12T13:40:41.155897Z",
     "start_time": "2025-10-12T13:40:41.149287Z"
    }
   },
   "cell_type": "code",
   "source": [
    "adoption_clean = adoption_clean[kolone].copy()\n",
    "adoption_clean"
   ],
   "id": "2026c09355cfd33b",
   "outputs": [
    {
     "data": {
      "text/plain": [
       "      AgeYears  AgeMonths    Size   WeightKg  TimeInShelterDays\n",
       "0           11        131   Large   5.039768                 27\n",
       "1            6         73   Large  16.086727                  8\n",
       "2           11        136  Medium   2.076286                 85\n",
       "3            8         97   Small   3.339423                 61\n",
       "4           10        123   Large  20.498100                 28\n",
       "...        ...        ...     ...        ...                ...\n",
       "2002         6         72   Small  27.039045                 66\n",
       "2003        10        124   Small   4.726954                 59\n",
       "2004         9        113   Small   1.758592                 68\n",
       "2005         1         12   Large  20.961592                 59\n",
       "2006        10        126  Medium  18.519788                 10\n",
       "\n",
       "[2007 rows x 5 columns]"
      ],
      "text/html": [
       "<div>\n",
       "<style scoped>\n",
       "    .dataframe tbody tr th:only-of-type {\n",
       "        vertical-align: middle;\n",
       "    }\n",
       "\n",
       "    .dataframe tbody tr th {\n",
       "        vertical-align: top;\n",
       "    }\n",
       "\n",
       "    .dataframe thead th {\n",
       "        text-align: right;\n",
       "    }\n",
       "</style>\n",
       "<table border=\"1\" class=\"dataframe\">\n",
       "  <thead>\n",
       "    <tr style=\"text-align: right;\">\n",
       "      <th></th>\n",
       "      <th>AgeYears</th>\n",
       "      <th>AgeMonths</th>\n",
       "      <th>Size</th>\n",
       "      <th>WeightKg</th>\n",
       "      <th>TimeInShelterDays</th>\n",
       "    </tr>\n",
       "  </thead>\n",
       "  <tbody>\n",
       "    <tr>\n",
       "      <th>0</th>\n",
       "      <td>11</td>\n",
       "      <td>131</td>\n",
       "      <td>Large</td>\n",
       "      <td>5.039768</td>\n",
       "      <td>27</td>\n",
       "    </tr>\n",
       "    <tr>\n",
       "      <th>1</th>\n",
       "      <td>6</td>\n",
       "      <td>73</td>\n",
       "      <td>Large</td>\n",
       "      <td>16.086727</td>\n",
       "      <td>8</td>\n",
       "    </tr>\n",
       "    <tr>\n",
       "      <th>2</th>\n",
       "      <td>11</td>\n",
       "      <td>136</td>\n",
       "      <td>Medium</td>\n",
       "      <td>2.076286</td>\n",
       "      <td>85</td>\n",
       "    </tr>\n",
       "    <tr>\n",
       "      <th>3</th>\n",
       "      <td>8</td>\n",
       "      <td>97</td>\n",
       "      <td>Small</td>\n",
       "      <td>3.339423</td>\n",
       "      <td>61</td>\n",
       "    </tr>\n",
       "    <tr>\n",
       "      <th>4</th>\n",
       "      <td>10</td>\n",
       "      <td>123</td>\n",
       "      <td>Large</td>\n",
       "      <td>20.498100</td>\n",
       "      <td>28</td>\n",
       "    </tr>\n",
       "    <tr>\n",
       "      <th>...</th>\n",
       "      <td>...</td>\n",
       "      <td>...</td>\n",
       "      <td>...</td>\n",
       "      <td>...</td>\n",
       "      <td>...</td>\n",
       "    </tr>\n",
       "    <tr>\n",
       "      <th>2002</th>\n",
       "      <td>6</td>\n",
       "      <td>72</td>\n",
       "      <td>Small</td>\n",
       "      <td>27.039045</td>\n",
       "      <td>66</td>\n",
       "    </tr>\n",
       "    <tr>\n",
       "      <th>2003</th>\n",
       "      <td>10</td>\n",
       "      <td>124</td>\n",
       "      <td>Small</td>\n",
       "      <td>4.726954</td>\n",
       "      <td>59</td>\n",
       "    </tr>\n",
       "    <tr>\n",
       "      <th>2004</th>\n",
       "      <td>9</td>\n",
       "      <td>113</td>\n",
       "      <td>Small</td>\n",
       "      <td>1.758592</td>\n",
       "      <td>68</td>\n",
       "    </tr>\n",
       "    <tr>\n",
       "      <th>2005</th>\n",
       "      <td>1</td>\n",
       "      <td>12</td>\n",
       "      <td>Large</td>\n",
       "      <td>20.961592</td>\n",
       "      <td>59</td>\n",
       "    </tr>\n",
       "    <tr>\n",
       "      <th>2006</th>\n",
       "      <td>10</td>\n",
       "      <td>126</td>\n",
       "      <td>Medium</td>\n",
       "      <td>18.519788</td>\n",
       "      <td>10</td>\n",
       "    </tr>\n",
       "  </tbody>\n",
       "</table>\n",
       "<p>2007 rows × 5 columns</p>\n",
       "</div>"
      ]
     },
     "execution_count": 57,
     "metadata": {},
     "output_type": "execute_result"
    }
   ],
   "execution_count": 57
  },
  {
   "metadata": {},
   "cell_type": "markdown",
   "source": "3. Prikazati srednju vrednost TimeInShelterDays po godinama AgeYears u vidu linijskog plota.",
   "id": "83679b8fe97686c0"
  },
  {
   "metadata": {
    "ExecuteTime": {
     "end_time": "2025-10-12T13:40:44.577421Z",
     "start_time": "2025-10-12T13:40:44.572681Z"
    }
   },
   "cell_type": "code",
   "source": [
    "srednja_vrednost_po_godinama = adoption_clean.groupby('AgeYears')['TimeInShelterDays'].mean()\n",
    "\n",
    "srednja_vrednost_po_godinama"
   ],
   "id": "700475e6ed66a198",
   "outputs": [
    {
     "data": {
      "text/plain": [
       "AgeYears\n",
       "0     40.757576\n",
       "1     40.669231\n",
       "2     43.842857\n",
       "3     43.910891\n",
       "4     43.021277\n",
       "5     42.016393\n",
       "6     46.265152\n",
       "7     43.162602\n",
       "8     40.316547\n",
       "9     49.414815\n",
       "10    43.880000\n",
       "11    45.947826\n",
       "12    46.397590\n",
       "13    44.570312\n",
       "14    42.050000\n",
       "15    47.830508\n",
       "Name: TimeInShelterDays, dtype: float64"
      ]
     },
     "execution_count": 58,
     "metadata": {},
     "output_type": "execute_result"
    }
   ],
   "execution_count": 58
  },
  {
   "metadata": {
    "ExecuteTime": {
     "end_time": "2025-10-12T13:40:46.425246Z",
     "start_time": "2025-10-12T13:40:46.301208Z"
    }
   },
   "cell_type": "code",
   "source": [
    "x = srednja_vrednost_po_godinama.index.tolist()\n",
    "y = srednja_vrednost_po_godinama.values.tolist()\n",
    "\n",
    "\n",
    "fig, ax = plt.subplots(figsize=(10, 5))\n",
    "ax.plot(x, y, color='blue', linestyle='--', marker='o', markersize=4, label='Promena srednje vrednosti')\n",
    "ax.set_title('Promena srednje vrednosti TimeInShelterDays po godinama AgeYears')\n",
    "ax.set_xlabel('AgeYears')\n",
    "ax.set_ylabel('Srednja vrednost TimeInShelterDays-a')\n",
    "ax.set_xticks(x)\n",
    "ax.set_yticks(range(39, 51))\n",
    "ax.legend()\n",
    "plt.show()"
   ],
   "id": "396729db7df9acff",
   "outputs": [
    {
     "data": {
      "text/plain": [
       "<Figure size 1000x500 with 1 Axes>"
      ],
      "image/png": "[encoded data removed]"
     },
     "metadata": {},
     "output_type": "display_data",
     "jetTransient": {
      "display_id": null
     }
    }
   ],
   "execution_count": 59
  },
  {
   "metadata": {},
   "cell_type": "markdown",
   "source": "4. Preko bargrapha prikazati za svaku kategoriju Size, prosečnu vrednost za WeightKg.",
   "id": "b343458b9ba321e1"
  },
  {
   "metadata": {
    "ExecuteTime": {
     "end_time": "2025-10-12T13:40:48.460143Z",
     "start_time": "2025-10-12T13:40:48.455261Z"
    }
   },
   "cell_type": "code",
   "source": [
    "prosecna_vrednost_po_kategorijama = adoption_clean.groupby('Size')['WeightKg'].mean()\n",
    "\n",
    "prosecna_vrednost_po_kategorijama"
   ],
   "id": "3fe6cd0689a6f5e7",
   "outputs": [
    {
     "data": {
      "text/plain": [
       "Size\n",
       "Large     15.751370\n",
       "Medium    15.790286\n",
       "Small     15.571442\n",
       "Name: WeightKg, dtype: float64"
      ]
     },
     "execution_count": 60,
     "metadata": {},
     "output_type": "execute_result"
    }
   ],
   "execution_count": 60
  },
  {
   "metadata": {
    "ExecuteTime": {
     "end_time": "2025-10-12T13:40:50.107298Z",
     "start_time": "2025-10-12T13:40:50.019203Z"
    }
   },
   "cell_type": "code",
   "source": [
    "x = prosecna_vrednost_po_kategorijama.index.tolist()\n",
    "y = prosecna_vrednost_po_kategorijama.values.tolist()\n",
    "\n",
    "\n",
    "fig, ax = plt.subplots(figsize=(10, 5))\n",
    "ax.bar(x, y, color=['red', 'green', 'blue', 'orange'], edgecolor='black')\n",
    "ax.set_title('Prosečnu vrednost za WeightKg-a za svaku kategoriju Size')\n",
    "ax.set_xlabel('Kategorije Size-a')\n",
    "ax.set_ylabel('Prosečna vrednost WeightKg-a')\n",
    "plt.show()"
   ],
   "id": "fd95f233d2188620",
   "outputs": [
    {
     "data": {
      "text/plain": [
       "<Figure size 1000x500 with 1 Axes>"
      ],
      "image/png": "[encoded data removed]"
     },
     "metadata": {},
     "output_type": "display_data",
     "jetTransient": {
      "display_id": null
     }
    }
   ],
   "execution_count": 61
  }
 ],
 "metadata": {
  "kernelspec": {
   "display_name": "Python 3",
   "language": "python",
   "name": "python3"
  },
  "language_info": {
   "codemirror_mode": {
    "name": "ipython",
    "version": 2
   },
   "file_extension": ".py",
   "mimetype": "text/x-python",
   "name": "python",
   "nbconvert_exporter": "python",
   "pygments_lexer": "ipython2",
   "version": "2.7.6"
  }
 },
 "nbformat": 4,
 "nbformat_minor": 5
}
